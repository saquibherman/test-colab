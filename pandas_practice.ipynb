{
  "nbformat": 4,
  "nbformat_minor": 0,
  "metadata": {
    "colab": {
      "name": "pandas_practice.ipynb",
      "provenance": [],
      "authorship_tag": "ABX9TyMJXKaIVZvQY658LU2uZc83",
      "include_colab_link": true
    },
    "kernelspec": {
      "name": "python3",
      "display_name": "Python 3"
    },
    "language_info": {
      "name": "python"
    }
  },
  "cells": [
    {
      "cell_type": "markdown",
      "metadata": {
        "id": "view-in-github",
        "colab_type": "text"
      },
      "source": [
        "<a href=\"https://colab.research.google.com/github/saquibherman/test-colab/blob/main/pandas_practice.ipynb\" target=\"_parent\"><img src=\"https://colab.research.google.com/assets/colab-badge.svg\" alt=\"Open In Colab\"/></a>"
      ]
    },
    {
      "cell_type": "code",
      "metadata": {
        "colab": {
          "base_uri": "https://localhost:8080/",
          "height": 35
        },
        "id": "AJweGXhJ2xFZ",
        "outputId": "f06faa3d-44aa-46a1-bf14-4bed12dcf71a"
      },
      "source": [
        "import pandas as pd\n",
        "pd.__version__"
      ],
      "execution_count": 4,
      "outputs": [
        {
          "output_type": "execute_result",
          "data": {
            "application/vnd.google.colaboratory.intrinsic+json": {
              "type": "string"
            },
            "text/plain": [
              "'1.1.5'"
            ]
          },
          "metadata": {},
          "execution_count": 4
        }
      ]
    },
    {
      "cell_type": "markdown",
      "metadata": {
        "id": "Kar8DvnX8fIG"
      },
      "source": [
        "## Exercise 1"
      ]
    },
    {
      "cell_type": "code",
      "metadata": {
        "colab": {
          "base_uri": "https://localhost:8080/"
        },
        "id": "szwIS_jW33Gu",
        "outputId": "6a155861-147c-4aaf-a426-9fc8725a4035"
      },
      "source": [
        "stocks = ['PLW', 'CDR', '11B', 'TEN']\n",
        "\n",
        "print(pd.Series(data=stocks))"
      ],
      "execution_count": 11,
      "outputs": [
        {
          "output_type": "stream",
          "name": "stdout",
          "text": [
            "0    PLW\n",
            "1    CDR\n",
            "2    11B\n",
            "3    TEN\n",
            "dtype: object\n"
          ]
        }
      ]
    },
    {
      "cell_type": "markdown",
      "metadata": {
        "id": "39_Oj2jL9WHN"
      },
      "source": [
        "##Exercise 2"
      ]
    },
    {
      "cell_type": "code",
      "metadata": {
        "colab": {
          "base_uri": "https://localhost:8080/"
        },
        "id": "_L1qpdhD9VBx",
        "outputId": "193b5024-4c54-4a13-bb55-440fcc705736"
      },
      "source": [
        "stocks = {'PLW': 387.00, 'CDR': 339.5, 'TEN': 349.5, '11B': 391.0}\n",
        "\n",
        "quotations = pd.Series(data=stocks)\n",
        "print(quotations)"
      ],
      "execution_count": 18,
      "outputs": [
        {
          "output_type": "stream",
          "name": "stdout",
          "text": [
            "PLW    387.0\n",
            "CDR    339.5\n",
            "TEN    349.5\n",
            "11B    391.0\n",
            "dtype: float64\n"
          ]
        }
      ]
    },
    {
      "cell_type": "markdown",
      "metadata": {
        "id": "ecEdSy68-OTl"
      },
      "source": [
        "##Exercise 3"
      ]
    },
    {
      "cell_type": "code",
      "metadata": {
        "colab": {
          "base_uri": "https://localhost:8080/"
        },
        "id": "CP4F7svL-UyR",
        "outputId": "86a62392-b86e-43f9-bafe-c8720c23ef83"
      },
      "source": [
        "quotations = quotations.to_list()\n",
        "print(quotations)"
      ],
      "execution_count": 19,
      "outputs": [
        {
          "output_type": "stream",
          "name": "stdout",
          "text": [
            "[387.0, 339.5, 349.5, 391.0]\n"
          ]
        }
      ]
    },
    {
      "cell_type": "markdown",
      "metadata": {
        "id": "TCqQkQKy-7K0"
      },
      "source": [
        "##Exercise 4"
      ]
    },
    {
      "cell_type": "code",
      "metadata": {
        "colab": {
          "base_uri": "https://localhost:8080/"
        },
        "id": "K1SZfgrR-wwB",
        "outputId": "24bf45fb-611c-4df5-806c-0789fb06c5fb"
      },
      "source": [
        "stocks = {'PLW': 387.00, 'CDR': 339.5, 'TEN': 349.5, '11B': 391.0}\n",
        "quotations = pd.Series(data=stocks)\n",
        "\n",
        "quotations = pd.DataFrame(quotations, columns=['price'])\n",
        "print(quotations)"
      ],
      "execution_count": 23,
      "outputs": [
        {
          "output_type": "stream",
          "name": "stdout",
          "text": [
            "     price\n",
            "PLW  387.0\n",
            "CDR  339.5\n",
            "TEN  349.5\n",
            "11B  391.0\n"
          ]
        }
      ]
    },
    {
      "cell_type": "markdown",
      "metadata": {
        "id": "2ZAmDX4JAHUG"
      },
      "source": [
        "##Exercise 5"
      ]
    },
    {
      "cell_type": "code",
      "metadata": {
        "colab": {
          "base_uri": "https://localhost:8080/"
        },
        "id": "8qyGYZOzAExK",
        "outputId": "367aee33-4f74-4bad-e677-92670bb06658"
      },
      "source": [
        "import numpy as np\n",
        "\n",
        "pd.Series(np.arange(10.0,100.0,10.0),np.arange(101,110,1))"
      ],
      "execution_count": 30,
      "outputs": [
        {
          "output_type": "execute_result",
          "data": {
            "text/plain": [
              "101    10.0\n",
              "102    20.0\n",
              "103    30.0\n",
              "104    40.0\n",
              "105    50.0\n",
              "106    60.0\n",
              "107    70.0\n",
              "108    80.0\n",
              "109    90.0\n",
              "dtype: float64"
            ]
          },
          "metadata": {},
          "execution_count": 30
        }
      ]
    },
    {
      "cell_type": "code",
      "metadata": {
        "colab": {
          "base_uri": "https://localhost:8080/"
        },
        "id": "2huu45_JByPo",
        "outputId": "7c6da0ac-2923-4412-db44-b81b1234e45c"
      },
      "source": [
        "s = pd.Series(data=np.arange(10, 100, 10), index=np.arange(101, 110), dtype='float')\n",
        "print(s)"
      ],
      "execution_count": 31,
      "outputs": [
        {
          "output_type": "stream",
          "name": "stdout",
          "text": [
            "101    10.0\n",
            "102    20.0\n",
            "103    30.0\n",
            "104    40.0\n",
            "105    50.0\n",
            "106    60.0\n",
            "107    70.0\n",
            "108    80.0\n",
            "109    90.0\n",
            "dtype: float64\n"
          ]
        }
      ]
    },
    {
      "cell_type": "markdown",
      "metadata": {
        "id": "7AeV8vKXB6Zb"
      },
      "source": [
        "##Exercise 6"
      ]
    },
    {
      "cell_type": "code",
      "metadata": {
        "colab": {
          "base_uri": "https://localhost:8080/"
        },
        "id": "Z8zu0OCVB--x",
        "outputId": "f3779971-64a5-4d6c-b5ee-ae36623d15ab"
      },
      "source": [
        "series = pd.Series(['001', '002', '003', '004'], list('abcd'))\n",
        "series = series.astype(int)\n",
        "print(series)"
      ],
      "execution_count": 35,
      "outputs": [
        {
          "output_type": "stream",
          "name": "stdout",
          "text": [
            "a    1\n",
            "b    2\n",
            "c    3\n",
            "d    4\n",
            "dtype: int64\n"
          ]
        }
      ]
    },
    {
      "cell_type": "code",
      "metadata": {
        "colab": {
          "base_uri": "https://localhost:8080/"
        },
        "id": "t4CtINLzDgnZ",
        "outputId": "fa2b67a9-1c5d-49ea-f40b-5e2c3275a882"
      },
      "source": [
        "series = pd.Series(['001', '002', '003', '004'], list('abcd'))\n",
        "series = pd.to_numeric(series)\n",
        "print(series)"
      ],
      "execution_count": 36,
      "outputs": [
        {
          "output_type": "stream",
          "name": "stdout",
          "text": [
            "a    1\n",
            "b    2\n",
            "c    3\n",
            "d    4\n",
            "dtype: int64\n"
          ]
        }
      ]
    },
    {
      "cell_type": "markdown",
      "metadata": {
        "id": "_ftJGhO3Dq6q"
      },
      "source": [
        "##Exercise 7"
      ]
    },
    {
      "cell_type": "code",
      "metadata": {
        "colab": {
          "base_uri": "https://localhost:8080/"
        },
        "id": "UUnAcQIyDp-a",
        "outputId": "e57ed527-ae83-47f7-d85d-e17d5c2a4f28"
      },
      "source": [
        "stocks = {'PLW': 387.00, 'CDR': 339.5, 'TEN': 349.5, '11B': 391.0}\n",
        "quotations = pd.Series(data=stocks)\n",
        "\n",
        "quotations['BBT'] = 25.5\n",
        "quotations['F51'] = 19.2\n",
        "\n",
        "print(quotations)"
      ],
      "execution_count": 37,
      "outputs": [
        {
          "output_type": "stream",
          "name": "stdout",
          "text": [
            "PLW    387.0\n",
            "CDR    339.5\n",
            "TEN    349.5\n",
            "11B    391.0\n",
            "BBT     25.5\n",
            "F51     19.2\n",
            "dtype: float64\n"
          ]
        }
      ]
    },
    {
      "cell_type": "code",
      "metadata": {
        "colab": {
          "base_uri": "https://localhost:8080/"
        },
        "id": "K-sfV02fEeYf",
        "outputId": "3a7e065d-65bd-4956-fb17-316da99e5d98"
      },
      "source": [
        "stocks = {'PLW': 387.00, 'CDR': 339.5, 'TEN': 349.5, '11B': 391.0}\n",
        "quotations = pd.Series(data=stocks)\n",
        " \n",
        "quotations = quotations.append(pd.Series({'BBT': 25.5, 'F51': 19.2}))\n",
        "print(quotations)"
      ],
      "execution_count": 38,
      "outputs": [
        {
          "output_type": "stream",
          "name": "stdout",
          "text": [
            "PLW    387.0\n",
            "CDR    339.5\n",
            "TEN    349.5\n",
            "11B    391.0\n",
            "BBT     25.5\n",
            "F51     19.2\n",
            "dtype: float64\n"
          ]
        }
      ]
    },
    {
      "cell_type": "markdown",
      "metadata": {
        "id": "45kwKGG2Em46"
      },
      "source": [
        "##Exercise 8"
      ]
    },
    {
      "cell_type": "code",
      "metadata": {
        "colab": {
          "base_uri": "https://localhost:8080/",
          "height": 234
        },
        "id": "v1XwbC99EfG5",
        "outputId": "8c4eabea-4e48-4ff5-af20-3173d21ee3f6"
      },
      "source": [
        "stocks = {'PLW': 387.00, 'CDR': 339.5, 'TEN': 349.5, '11B': 391.0, 'BBT': 25.5, 'F51': 19.2}\n",
        "quotations = pd.Series(data=stocks)\n",
        "\n",
        "pd.DataFrame(quotations).reset_index().rename(columns={'index':'ticker', 0:'price'})"
      ],
      "execution_count": 65,
      "outputs": [
        {
          "output_type": "execute_result",
          "data": {
            "text/html": [
              "<div>\n",
              "<style scoped>\n",
              "    .dataframe tbody tr th:only-of-type {\n",
              "        vertical-align: middle;\n",
              "    }\n",
              "\n",
              "    .dataframe tbody tr th {\n",
              "        vertical-align: top;\n",
              "    }\n",
              "\n",
              "    .dataframe thead th {\n",
              "        text-align: right;\n",
              "    }\n",
              "</style>\n",
              "<table border=\"1\" class=\"dataframe\">\n",
              "  <thead>\n",
              "    <tr style=\"text-align: right;\">\n",
              "      <th></th>\n",
              "      <th>ticker</th>\n",
              "      <th>price</th>\n",
              "    </tr>\n",
              "  </thead>\n",
              "  <tbody>\n",
              "    <tr>\n",
              "      <th>0</th>\n",
              "      <td>PLW</td>\n",
              "      <td>387.0</td>\n",
              "    </tr>\n",
              "    <tr>\n",
              "      <th>1</th>\n",
              "      <td>CDR</td>\n",
              "      <td>339.5</td>\n",
              "    </tr>\n",
              "    <tr>\n",
              "      <th>2</th>\n",
              "      <td>TEN</td>\n",
              "      <td>349.5</td>\n",
              "    </tr>\n",
              "    <tr>\n",
              "      <th>3</th>\n",
              "      <td>11B</td>\n",
              "      <td>391.0</td>\n",
              "    </tr>\n",
              "    <tr>\n",
              "      <th>4</th>\n",
              "      <td>BBT</td>\n",
              "      <td>25.5</td>\n",
              "    </tr>\n",
              "    <tr>\n",
              "      <th>5</th>\n",
              "      <td>F51</td>\n",
              "      <td>19.2</td>\n",
              "    </tr>\n",
              "  </tbody>\n",
              "</table>\n",
              "</div>"
            ],
            "text/plain": [
              "  ticker  price\n",
              "0    PLW  387.0\n",
              "1    CDR  339.5\n",
              "2    TEN  349.5\n",
              "3    11B  391.0\n",
              "4    BBT   25.5\n",
              "5    F51   19.2"
            ]
          },
          "metadata": {},
          "execution_count": 65
        }
      ]
    },
    {
      "cell_type": "code",
      "metadata": {
        "colab": {
          "base_uri": "https://localhost:8080/"
        },
        "id": "gk78PZN_J3XH",
        "outputId": "f514ae0a-ec84-4330-90f9-9478aebf2810"
      },
      "source": [
        "stocks = {'PLW': 387.00, 'CDR': 339.5, 'TEN': 349.5, '11B': 391.0, 'BBT': 25.5, 'F51': 19.2}\n",
        "quotations = pd.Series(data=stocks)\n",
        "\n",
        "quotations = pd.DataFrame(quotations).reset_index()\n",
        "quotations.columns = ['ticker', 'price']\n",
        "print(quotations)"
      ],
      "execution_count": 66,
      "outputs": [
        {
          "output_type": "stream",
          "name": "stdout",
          "text": [
            "  ticker  price\n",
            "0    PLW  387.0\n",
            "1    CDR  339.5\n",
            "2    TEN  349.5\n",
            "3    11B  391.0\n",
            "4    BBT   25.5\n",
            "5    F51   19.2\n"
          ]
        }
      ]
    },
    {
      "cell_type": "markdown",
      "metadata": {
        "id": "E--pjthQLXMG"
      },
      "source": [
        "##Exercise 9"
      ]
    },
    {
      "cell_type": "code",
      "metadata": {
        "colab": {
          "base_uri": "https://localhost:8080/"
        },
        "id": "HBhL9fAZKF8R",
        "outputId": "baf91b71-31e5-440f-b76a-128283afad53"
      },
      "source": [
        "data = {'company': ['Amazon', 'Microsoft', 'Facebook'], 'price': [2375.0,178.6,179.2], 'ticker': ['AMZN.US', 'MSFT.US','FB.US']}\n",
        "companies = pd.DataFrame.from_dict(data)\n",
        "print(companies)"
      ],
      "execution_count": 67,
      "outputs": [
        {
          "output_type": "stream",
          "name": "stdout",
          "text": [
            "     company   price   ticker\n",
            "0     Amazon  2375.0  AMZN.US\n",
            "1  Microsoft   178.6  MSFT.US\n",
            "2   Facebook   179.2    FB.US\n"
          ]
        }
      ]
    },
    {
      "cell_type": "code",
      "metadata": {
        "colab": {
          "base_uri": "https://localhost:8080/"
        },
        "id": "7eoKVN6DMZmy",
        "outputId": "817e2a53-d05c-49ba-da02-ad699f241bf9"
      },
      "source": [
        "data_dict = {\n",
        "    'company': ['Amazon', 'Microsoft', 'Facebook'],\n",
        "    'price': [2375.00, 178.6, 179.2],\n",
        "    'ticker': ['AMZN.US', 'MSFT.US', 'FB.US']\n",
        "}\n",
        " \n",
        "companies = pd.DataFrame(data=data_dict)\n",
        "print(companies)"
      ],
      "execution_count": 68,
      "outputs": [
        {
          "output_type": "stream",
          "name": "stdout",
          "text": [
            "     company   price   ticker\n",
            "0     Amazon  2375.0  AMZN.US\n",
            "1  Microsoft   178.6  MSFT.US\n",
            "2   Facebook   179.2    FB.US\n"
          ]
        }
      ]
    },
    {
      "cell_type": "markdown",
      "metadata": {
        "id": "2WY3XU--Mhyu"
      },
      "source": [
        "##Exercise 10"
      ]
    },
    {
      "cell_type": "code",
      "metadata": {
        "colab": {
          "base_uri": "https://localhost:8080/"
        },
        "id": "KDYng6j_Mlee",
        "outputId": "13cca39c-1998-4597-9838-5044d9df3d7f"
      },
      "source": [
        "data_dict = {\n",
        "    'company': ['Amazon', 'Microsoft', 'Facebook'],\n",
        "    'price': [2375.00, 178.6, 179.2],\n",
        "    'ticker': ['AMZN.US', 'MSFT.US', 'FB.US']\n",
        "}\n",
        "\n",
        "companies = pd.DataFrame(data=data_dict)\n",
        "\n",
        "companies = companies.set_index('company')\n",
        "print(companies)"
      ],
      "execution_count": 70,
      "outputs": [
        {
          "output_type": "stream",
          "name": "stdout",
          "text": [
            "            price   ticker\n",
            "company                   \n",
            "Amazon     2375.0  AMZN.US\n",
            "Microsoft   178.6  MSFT.US\n",
            "Facebook    179.2    FB.US\n"
          ]
        }
      ]
    }
  ]
}